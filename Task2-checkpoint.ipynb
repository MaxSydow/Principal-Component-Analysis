{
 "cells": [
  {
   "cell_type": "markdown",
   "metadata": {},
   "source": [
    "# Variance Thresholds and Dimensional Reduction With Principal Component Analysis"
   ]
  },
  {
   "cell_type": "markdown",
   "metadata": {},
   "source": [
    "#### Max Sydow.  WGU, D212 - Data Mining II.  February, 2022."
   ]
  },
  {
   "cell_type": "markdown",
   "metadata": {},
   "source": [
    "# Investigative Question and Goal\n",
    "\n",
    "Without customers an internet service provider (ISP) could not stay in business.  Like many other businesses it is important to retain existing customers, especially in areas where competing ISPs are an option.  Churn can be described as customer turnover, while tenure refers to how long a customer keeps their services. \n",
    "\n",
    "Thoughts and perceptions can influence how long a customer stays, or even whether or not they leave. The Customer Churn data set contains 8 fields that describe customer sentiment.  This set of columns consists of 8 prompts for customers to rate in terms of importance, and are labeled item1 through item8.  The responses in these columns include numerical data.  A response of 1 indicates most important, with 8 on the other end as least important.  The items themselves are:\n",
    "\n",
    "•\titem1: Timely response\n",
    "\n",
    "•\titem2: Timely fixes\n",
    "\n",
    "•\titem3: Timely replacements\n",
    "\n",
    "•\titem4: Reliability\n",
    "\n",
    "•\titem5: Options\n",
    "\n",
    "•\titem6: Respectful response\n",
    "\n",
    "•\titem7: Courteous exchange\n",
    "\n",
    "•\titem8: Evidence of active listening\n",
    "\n",
    "Predictive models can shed some light on the likelihood of churn, and forcast trends with tenure.  Churn is a binary value, so a classification model would be appropriate.  Tenure is continuous, and a regression model would be suited to make predictions.  It might be worthwhile to find out if 8 prompts are actually necessary or even that useful when used in such models.  Some people probably don’t mind responding to this many questions, but it may be a deterrent to others.  Could it be possible to engage more customers if there were less aspects to rate?  If so, which of these prompts can be justified in being removed, or perhaps consolidated?  Principal component analysis (PCA) provides a mathematical and algorithmic means of grouping seemingly independent sets of values by variability.  If certain items vary in a similar way this would indicate redundancy.  Why have 2 or more items that are only going to give you the same trends?  "
   ]
  },
  {
   "cell_type": "markdown",
   "metadata": {},
   "source": [
    "# Method Justification and Assumptions"
   ]
  },
  {
   "cell_type": "markdown",
   "metadata": {},
   "source": [
    "The item data frame is ordered by a unique indexed column, and contains no missing values or outliers.   Essentially, we want to transform the way these columns are viewed.  Orthogonality and linear independence are key concepts in linear algebra.  In a plain 2-dimensional Euclidean space a line can be represented as a vector, and 2 lines are said to be orthogonal if they are perpendicular to each other.  In this case the vectors are also linearly independent.  (Anton, Ch. 5.3)  Looking at 2 of the item columns as vectors, we can say that their respective values are independent of each other if they are orthogonal.  In order to look at all 8 item columns, or any number of vectorizable columns like this a linear equation consisting of transformed vectors each having a multiplying coefficient can be calculated.  (Anton, Ch. 7.2)  The transformed vectors are called eigenvectors while the coefficients are called eigenvalues.  In the context of PCA the eigenvectors are the principle components.  The magnitude of the eigenvalues can be viewed as a weight for variability amongst the components.  That is to say the larger the eigenvalue, the greater the variability of it’s corresponding principal component.  Furthermore this allows us to look at the strength of variability of each original vector relative to it’s orthogonal transformation.  This means we can quantitatively tell which item  aligns the strongest with which principle component.  Such a task would be mathematically arduous to perform by hand, but Python contains libraries that allow such analysis to be performed quickly.\n",
    "\n",
    "Python's sklearn.decomposition package allows for fitting of a PCA model to original data.  It also provides easy to use functions to compute component variances in an similar way that eigenvalues are computed.  This allows for the use of these variances when reducing dimensions by componenets.  In general the ranges of all original variables may not be the same.  This can result in skewed variances and misalignment to principal components.  For this reason it is best to scale each variable before fitting the PCA model.  Sklearn has a standardscaler function that will transform each value so that the column means are 0 and standard deviation is 1.  So, the assumptions of the data to be used for PCA are that each column be continuous, numeric and scaled.  It does not make any predictions or clustering, but collapses the dimensionality of the dataset according to similarity of each column's variances."
   ]
  },
  {
   "cell_type": "markdown",
   "metadata": {},
   "source": [
    "# Data Preparation and Analysis"
   ]
  },
  {
   "cell_type": "markdown",
   "metadata": {},
   "source": [
    "The data set was read into a pandas dataframe, which was then subsetted to include only the Item columns."
   ]
  },
  {
   "cell_type": "code",
   "execution_count": 103,
   "metadata": {},
   "outputs": [],
   "source": [
    "# read initial data set (same as used in previous courses/projects), store as dataframe\n",
    "import pandas as pd\n",
    "df = pd.read_csv('C:/Users/maxgs/MSDA/D208 Predictive Modeling/churn_clean.csv')"
   ]
  },
  {
   "cell_type": "code",
   "execution_count": 104,
   "metadata": {},
   "outputs": [
    {
     "data": {
      "text/html": [
       "<div>\n",
       "<style scoped>\n",
       "    .dataframe tbody tr th:only-of-type {\n",
       "        vertical-align: middle;\n",
       "    }\n",
       "\n",
       "    .dataframe tbody tr th {\n",
       "        vertical-align: top;\n",
       "    }\n",
       "\n",
       "    .dataframe thead th {\n",
       "        text-align: right;\n",
       "    }\n",
       "</style>\n",
       "<table border=\"1\" class=\"dataframe\">\n",
       "  <thead>\n",
       "    <tr style=\"text-align: right;\">\n",
       "      <th></th>\n",
       "      <th>Item1</th>\n",
       "      <th>Item2</th>\n",
       "      <th>Item3</th>\n",
       "      <th>Item4</th>\n",
       "      <th>Item5</th>\n",
       "      <th>Item6</th>\n",
       "      <th>Item7</th>\n",
       "      <th>Item8</th>\n",
       "    </tr>\n",
       "  </thead>\n",
       "  <tbody>\n",
       "    <tr>\n",
       "      <th>0</th>\n",
       "      <td>5</td>\n",
       "      <td>5</td>\n",
       "      <td>5</td>\n",
       "      <td>3</td>\n",
       "      <td>4</td>\n",
       "      <td>4</td>\n",
       "      <td>3</td>\n",
       "      <td>4</td>\n",
       "    </tr>\n",
       "    <tr>\n",
       "      <th>1</th>\n",
       "      <td>3</td>\n",
       "      <td>4</td>\n",
       "      <td>3</td>\n",
       "      <td>3</td>\n",
       "      <td>4</td>\n",
       "      <td>3</td>\n",
       "      <td>4</td>\n",
       "      <td>4</td>\n",
       "    </tr>\n",
       "    <tr>\n",
       "      <th>2</th>\n",
       "      <td>4</td>\n",
       "      <td>4</td>\n",
       "      <td>2</td>\n",
       "      <td>4</td>\n",
       "      <td>4</td>\n",
       "      <td>3</td>\n",
       "      <td>3</td>\n",
       "      <td>3</td>\n",
       "    </tr>\n",
       "    <tr>\n",
       "      <th>3</th>\n",
       "      <td>4</td>\n",
       "      <td>4</td>\n",
       "      <td>4</td>\n",
       "      <td>2</td>\n",
       "      <td>5</td>\n",
       "      <td>4</td>\n",
       "      <td>3</td>\n",
       "      <td>3</td>\n",
       "    </tr>\n",
       "    <tr>\n",
       "      <th>4</th>\n",
       "      <td>4</td>\n",
       "      <td>4</td>\n",
       "      <td>4</td>\n",
       "      <td>3</td>\n",
       "      <td>4</td>\n",
       "      <td>4</td>\n",
       "      <td>4</td>\n",
       "      <td>5</td>\n",
       "    </tr>\n",
       "  </tbody>\n",
       "</table>\n",
       "</div>"
      ],
      "text/plain": [
       "   Item1  Item2  Item3  Item4  Item5  Item6  Item7  Item8\n",
       "0      5      5      5      3      4      4      3      4\n",
       "1      3      4      3      3      4      3      4      4\n",
       "2      4      4      2      4      4      3      3      3\n",
       "3      4      4      4      2      5      4      3      3\n",
       "4      4      4      4      3      4      4      4      5"
      ]
     },
     "execution_count": 104,
     "metadata": {},
     "output_type": "execute_result"
    }
   ],
   "source": [
    "item_df = num_df[['Item1', 'Item2', 'Item3', 'Item4', 'Item5', 'Item6', 'Item7', 'Item8']]\n",
    "item_df.head()"
   ]
  },
  {
   "cell_type": "code",
   "execution_count": 105,
   "metadata": {
    "scrolled": true
   },
   "outputs": [
    {
     "data": {
      "text/html": [
       "<div>\n",
       "<style scoped>\n",
       "    .dataframe tbody tr th:only-of-type {\n",
       "        vertical-align: middle;\n",
       "    }\n",
       "\n",
       "    .dataframe tbody tr th {\n",
       "        vertical-align: top;\n",
       "    }\n",
       "\n",
       "    .dataframe thead th {\n",
       "        text-align: right;\n",
       "    }\n",
       "</style>\n",
       "<table border=\"1\" class=\"dataframe\">\n",
       "  <thead>\n",
       "    <tr style=\"text-align: right;\">\n",
       "      <th></th>\n",
       "      <th>Item1</th>\n",
       "      <th>Item2</th>\n",
       "      <th>Item3</th>\n",
       "      <th>Item4</th>\n",
       "      <th>Item5</th>\n",
       "      <th>Item6</th>\n",
       "      <th>Item7</th>\n",
       "      <th>Item8</th>\n",
       "    </tr>\n",
       "  </thead>\n",
       "  <tbody>\n",
       "    <tr>\n",
       "      <th>count</th>\n",
       "      <td>10000.000000</td>\n",
       "      <td>10000.000000</td>\n",
       "      <td>10000.000000</td>\n",
       "      <td>10000.000000</td>\n",
       "      <td>10000.000000</td>\n",
       "      <td>10000.000000</td>\n",
       "      <td>10000.000000</td>\n",
       "      <td>10000.000000</td>\n",
       "    </tr>\n",
       "    <tr>\n",
       "      <th>mean</th>\n",
       "      <td>3.490800</td>\n",
       "      <td>3.505100</td>\n",
       "      <td>3.487000</td>\n",
       "      <td>3.497500</td>\n",
       "      <td>3.492900</td>\n",
       "      <td>3.497300</td>\n",
       "      <td>3.509500</td>\n",
       "      <td>3.495600</td>\n",
       "    </tr>\n",
       "    <tr>\n",
       "      <th>std</th>\n",
       "      <td>1.037797</td>\n",
       "      <td>1.034641</td>\n",
       "      <td>1.027977</td>\n",
       "      <td>1.025816</td>\n",
       "      <td>1.024819</td>\n",
       "      <td>1.033586</td>\n",
       "      <td>1.028502</td>\n",
       "      <td>1.028633</td>\n",
       "    </tr>\n",
       "    <tr>\n",
       "      <th>min</th>\n",
       "      <td>1.000000</td>\n",
       "      <td>1.000000</td>\n",
       "      <td>1.000000</td>\n",
       "      <td>1.000000</td>\n",
       "      <td>1.000000</td>\n",
       "      <td>1.000000</td>\n",
       "      <td>1.000000</td>\n",
       "      <td>1.000000</td>\n",
       "    </tr>\n",
       "    <tr>\n",
       "      <th>25%</th>\n",
       "      <td>3.000000</td>\n",
       "      <td>3.000000</td>\n",
       "      <td>3.000000</td>\n",
       "      <td>3.000000</td>\n",
       "      <td>3.000000</td>\n",
       "      <td>3.000000</td>\n",
       "      <td>3.000000</td>\n",
       "      <td>3.000000</td>\n",
       "    </tr>\n",
       "    <tr>\n",
       "      <th>50%</th>\n",
       "      <td>3.000000</td>\n",
       "      <td>4.000000</td>\n",
       "      <td>3.000000</td>\n",
       "      <td>3.000000</td>\n",
       "      <td>3.000000</td>\n",
       "      <td>3.000000</td>\n",
       "      <td>4.000000</td>\n",
       "      <td>3.000000</td>\n",
       "    </tr>\n",
       "    <tr>\n",
       "      <th>75%</th>\n",
       "      <td>4.000000</td>\n",
       "      <td>4.000000</td>\n",
       "      <td>4.000000</td>\n",
       "      <td>4.000000</td>\n",
       "      <td>4.000000</td>\n",
       "      <td>4.000000</td>\n",
       "      <td>4.000000</td>\n",
       "      <td>4.000000</td>\n",
       "    </tr>\n",
       "    <tr>\n",
       "      <th>max</th>\n",
       "      <td>7.000000</td>\n",
       "      <td>7.000000</td>\n",
       "      <td>8.000000</td>\n",
       "      <td>7.000000</td>\n",
       "      <td>7.000000</td>\n",
       "      <td>8.000000</td>\n",
       "      <td>7.000000</td>\n",
       "      <td>8.000000</td>\n",
       "    </tr>\n",
       "  </tbody>\n",
       "</table>\n",
       "</div>"
      ],
      "text/plain": [
       "              Item1         Item2         Item3         Item4         Item5  \\\n",
       "count  10000.000000  10000.000000  10000.000000  10000.000000  10000.000000   \n",
       "mean       3.490800      3.505100      3.487000      3.497500      3.492900   \n",
       "std        1.037797      1.034641      1.027977      1.025816      1.024819   \n",
       "min        1.000000      1.000000      1.000000      1.000000      1.000000   \n",
       "25%        3.000000      3.000000      3.000000      3.000000      3.000000   \n",
       "50%        3.000000      4.000000      3.000000      3.000000      3.000000   \n",
       "75%        4.000000      4.000000      4.000000      4.000000      4.000000   \n",
       "max        7.000000      7.000000      8.000000      7.000000      7.000000   \n",
       "\n",
       "              Item6         Item7         Item8  \n",
       "count  10000.000000  10000.000000  10000.000000  \n",
       "mean       3.497300      3.509500      3.495600  \n",
       "std        1.033586      1.028502      1.028633  \n",
       "min        1.000000      1.000000      1.000000  \n",
       "25%        3.000000      3.000000      3.000000  \n",
       "50%        3.000000      4.000000      3.000000  \n",
       "75%        4.000000      4.000000      4.000000  \n",
       "max        8.000000      7.000000      8.000000  "
      ]
     },
     "execution_count": 105,
     "metadata": {},
     "output_type": "execute_result"
    }
   ],
   "source": [
    "# drop discrete numeric and unusable columns\n",
    "item_df.describe()"
   ]
  },
  {
   "cell_type": "markdown",
   "metadata": {},
   "source": [
    "A pipeline can be made to apply both scaling and model fitting at the same time."
   ]
  },
  {
   "cell_type": "code",
   "execution_count": 159,
   "metadata": {},
   "outputs": [],
   "source": [
    "# Pipeline a scaler and pca \n",
    "\n",
    "from sklearn.pipeline import Pipeline\n",
    "from sklearn.decomposition import PCA\n",
    "import matplotlib.pyplot as plt \n",
    "\n",
    "pipe = Pipeline([('scaler', StandardScaler()),\n",
    "                 ('reducer', PCA())])\n",
    "\n",
    "# Fit the pipe to the data\n",
    "pca_item = pipe.fit(item_df)"
   ]
  },
  {
   "cell_type": "markdown",
   "metadata": {},
   "source": [
    "A matrix of maximal variances for each Item as they align with principal components can be made.  The __.components___ method computes these variances."
   ]
  },
  {
   "cell_type": "code",
   "execution_count": 160,
   "metadata": {},
   "outputs": [
    {
     "data": {
      "text/html": [
       "<div>\n",
       "<style scoped>\n",
       "    .dataframe tbody tr th:only-of-type {\n",
       "        vertical-align: middle;\n",
       "    }\n",
       "\n",
       "    .dataframe tbody tr th {\n",
       "        vertical-align: top;\n",
       "    }\n",
       "\n",
       "    .dataframe thead tr th {\n",
       "        text-align: left;\n",
       "    }\n",
       "</style>\n",
       "<table border=\"1\" class=\"dataframe\">\n",
       "  <thead>\n",
       "    <tr>\n",
       "      <th></th>\n",
       "      <th>Item1</th>\n",
       "      <th>Item2</th>\n",
       "      <th>Item3</th>\n",
       "      <th>Item4</th>\n",
       "      <th>Item5</th>\n",
       "      <th>Item6</th>\n",
       "      <th>Item7</th>\n",
       "      <th>Item8</th>\n",
       "    </tr>\n",
       "  </thead>\n",
       "  <tbody>\n",
       "    <tr>\n",
       "      <th>PC0</th>\n",
       "      <td>0.459030</td>\n",
       "      <td>0.434342</td>\n",
       "      <td>0.400775</td>\n",
       "      <td>0.145686</td>\n",
       "      <td>-0.175385</td>\n",
       "      <td>0.405197</td>\n",
       "      <td>0.358413</td>\n",
       "      <td>0.308851</td>\n",
       "    </tr>\n",
       "    <tr>\n",
       "      <th>PC1</th>\n",
       "      <td>0.282717</td>\n",
       "      <td>0.285321</td>\n",
       "      <td>0.282950</td>\n",
       "      <td>-0.569898</td>\n",
       "      <td>0.591292</td>\n",
       "      <td>-0.183897</td>\n",
       "      <td>-0.181067</td>\n",
       "      <td>-0.132624</td>\n",
       "    </tr>\n",
       "    <tr>\n",
       "      <th>PC2</th>\n",
       "      <td>-0.069221</td>\n",
       "      <td>-0.106259</td>\n",
       "      <td>-0.173885</td>\n",
       "      <td>-0.171525</td>\n",
       "      <td>0.135315</td>\n",
       "      <td>-0.061988</td>\n",
       "      <td>-0.184917</td>\n",
       "      <td>0.931619</td>\n",
       "    </tr>\n",
       "    <tr>\n",
       "      <th>PC3</th>\n",
       "      <td>0.120013</td>\n",
       "      <td>0.170235</td>\n",
       "      <td>0.254689</td>\n",
       "      <td>0.482754</td>\n",
       "      <td>-0.060906</td>\n",
       "      <td>-0.063712</td>\n",
       "      <td>-0.806749</td>\n",
       "      <td>0.009229</td>\n",
       "    </tr>\n",
       "    <tr>\n",
       "      <th>PC4</th>\n",
       "      <td>-0.044752</td>\n",
       "      <td>-0.064900</td>\n",
       "      <td>-0.148134</td>\n",
       "      <td>-0.444692</td>\n",
       "      <td>-0.211030</td>\n",
       "      <td>0.757170</td>\n",
       "      <td>-0.378391</td>\n",
       "      <td>-0.114326</td>\n",
       "    </tr>\n",
       "    <tr>\n",
       "      <th>PC5</th>\n",
       "      <td>0.025032</td>\n",
       "      <td>0.074672</td>\n",
       "      <td>-0.396761</td>\n",
       "      <td>0.431115</td>\n",
       "      <td>0.693537</td>\n",
       "      <td>0.403694</td>\n",
       "      <td>0.067449</td>\n",
       "      <td>-0.044789</td>\n",
       "    </tr>\n",
       "    <tr>\n",
       "      <th>PC6</th>\n",
       "      <td>-0.241688</td>\n",
       "      <td>-0.591586</td>\n",
       "      <td>0.673403</td>\n",
       "      <td>0.086961</td>\n",
       "      <td>0.265272</td>\n",
       "      <td>0.231751</td>\n",
       "      <td>0.066043</td>\n",
       "      <td>0.046267</td>\n",
       "    </tr>\n",
       "    <tr>\n",
       "      <th>PC7</th>\n",
       "      <td>0.793174</td>\n",
       "      <td>-0.574375</td>\n",
       "      <td>-0.177149</td>\n",
       "      <td>0.018610</td>\n",
       "      <td>-0.041198</td>\n",
       "      <td>-0.064123</td>\n",
       "      <td>-0.040309</td>\n",
       "      <td>-0.042500</td>\n",
       "    </tr>\n",
       "  </tbody>\n",
       "</table>\n",
       "</div>"
      ],
      "text/plain": [
       "        Item1     Item2     Item3     Item4     Item5     Item6     Item7  \\\n",
       "PC0  0.459030  0.434342  0.400775  0.145686 -0.175385  0.405197  0.358413   \n",
       "PC1  0.282717  0.285321  0.282950 -0.569898  0.591292 -0.183897 -0.181067   \n",
       "PC2 -0.069221 -0.106259 -0.173885 -0.171525  0.135315 -0.061988 -0.184917   \n",
       "PC3  0.120013  0.170235  0.254689  0.482754 -0.060906 -0.063712 -0.806749   \n",
       "PC4 -0.044752 -0.064900 -0.148134 -0.444692 -0.211030  0.757170 -0.378391   \n",
       "PC5  0.025032  0.074672 -0.396761  0.431115  0.693537  0.403694  0.067449   \n",
       "PC6 -0.241688 -0.591586  0.673403  0.086961  0.265272  0.231751  0.066043   \n",
       "PC7  0.793174 -0.574375 -0.177149  0.018610 -0.041198 -0.064123 -0.040309   \n",
       "\n",
       "        Item8  \n",
       "PC0  0.308851  \n",
       "PC1 -0.132624  \n",
       "PC2  0.931619  \n",
       "PC3  0.009229  \n",
       "PC4 -0.114326  \n",
       "PC5 -0.044789  \n",
       "PC6  0.046267  \n",
       "PC7 -0.042500  "
      ]
     },
     "execution_count": 160,
     "metadata": {},
     "output_type": "execute_result"
    }
   ],
   "source": [
    "# matrix of principal components\n",
    "\n",
    "# assign row names to corresponding Items, col names to principal components\n",
    "col_names = [item_df.columns]\n",
    "row_names = ['PC0', 'PC1', 'PC2', 'PC3', 'PC4', 'PC5', 'PC6', 'PC7']\n",
    "\n",
    "# create data frame of component alignment strengths\n",
    "pc_df = pd.DataFrame(data = pipe.steps[1][1].components_, columns = col_names, index = row_names)\n",
    "pc_df.head(10)"
   ]
  },
  {
   "cell_type": "markdown",
   "metadata": {},
   "source": [
    "Component groupings according to maximum variability imply reduction from 8 to 7 dimensions.\n",
    "\n",
    "PC1: Item4\n",
    "\n",
    "PC2: Item8\n",
    "\n",
    "PC3: Item7\n",
    "\n",
    "PC4: Item6\n",
    "\n",
    "PC5: Item5\n",
    "\n",
    "PC6: Item2, Item3\n",
    "\n",
    "PC7: Item1"
   ]
  },
  {
   "cell_type": "markdown",
   "metadata": {},
   "source": [
    "An *elbow plot* of proportions of variance by component was used to determine the number of dimensions that the original column set can be reduced to using PCA."
   ]
  },
  {
   "cell_type": "code",
   "execution_count": 161,
   "metadata": {},
   "outputs": [
    {
     "data": {
      "image/png": "[encoded data removed]",
      "text/plain": [
       "<Figure size 432x288 with 1 Axes>"
      ]
     },
     "metadata": {
      "needs_background": "light"
     },
     "output_type": "display_data"
    }
   ],
   "source": [
    "# Plot the explained variance ratio\n",
    "plt.plot(pipe.steps[1][1].explained_variance_ratio_)\n",
    "\n",
    "plt.xlabel('Principal component index')\n",
    "plt.ylabel('Explained variance ratio')\n",
    "plt.show()"
   ]
  },
  {
   "cell_type": "markdown",
   "metadata": {},
   "source": [
    "The ratio of variances decreases sharply until the 3rd principal component before leveling off.  This indicates that 3 components can explain the maximum variability.  The pipeline and model can be re-fit by specifying this number of components."
   ]
  },
  {
   "cell_type": "code",
   "execution_count": 109,
   "metadata": {},
   "outputs": [],
   "source": [
    "# fit PCA model using the 3 impactful components\n",
    "pipe2 = Pipeline([('scaler', StandardScaler()),\n",
    "                 ('reducer', PCA(n_components = 3))])\n",
    "\n",
    "# Fit the pipe to the data\n",
    "pca_item2 = pipe2.fit(item_df)"
   ]
  },
  {
   "cell_type": "code",
   "execution_count": 110,
   "metadata": {},
   "outputs": [
    {
     "data": {
      "image/png": "[encoded data removed]",
      "text/plain": [
       "<Figure size 432x288 with 1 Axes>"
      ]
     },
     "metadata": {
      "needs_background": "light"
     },
     "output_type": "display_data"
    }
   ],
   "source": [
    "# plot of variance for each component\n",
    "\n",
    "features = range(pipe2.steps[1][1].n_components_)\n",
    "y_vals = pipe2.steps[1][1].explained_variance_\n",
    "\n",
    "plt.bar(features, y_vals)\n",
    "plt.xlabel('PCA feature')\n",
    "plt.ylabel('variance')\n",
    "plt.xticks(features)\n",
    "\n",
    "for index, value in enumerate(y_vals):\n",
    "    plt.text(index, value, str(value))\n"
   ]
  },
  {
   "cell_type": "code",
   "execution_count": 111,
   "metadata": {},
   "outputs": [
    {
     "data": {
      "image/png": "[encoded data removed]",
      "text/plain": [
       "<Figure size 432x288 with 1 Axes>"
      ]
     },
     "metadata": {
      "needs_background": "light"
     },
     "output_type": "display_data"
    }
   ],
   "source": [
    "# plot of proportions of variance for each component\n",
    "\n",
    "features = range(pipe2.steps[1][1].n_components_)\n",
    "y_vals = pipe2.steps[1][1].explained_variance_ratio_\n",
    "\n",
    "plt.bar(features, y_vals)\n",
    "plt.xlabel('PCA feature')\n",
    "plt.ylabel('variance')\n",
    "plt.xticks(features)\n",
    "\n",
    "for index, value in enumerate(y_vals):\n",
    "    plt.text(index, value, str(value))"
   ]
  },
  {
   "cell_type": "code",
   "execution_count": 112,
   "metadata": {},
   "outputs": [
    {
     "data": {
      "image/png": "[encoded data removed]",
      "text/plain": [
       "<Figure size 432x288 with 1 Axes>"
      ]
     },
     "metadata": {
      "needs_background": "light"
     },
     "output_type": "display_data"
    }
   ],
   "source": [
    "# cumulative sums of proportional variance\n",
    "\n",
    "import numpy as np\n",
    "cum_sum_exp = np.cumsum(pipe2.steps[1][1].explained_variance_ratio_)\n",
    "plt.step(range(0,len(cum_sum_exp)), cum_sum_exp, where='mid',label='Cumulative explained variance')\n",
    "\n",
    "for index, value in enumerate(cum_sum_exp):\n",
    "    plt.text(index, value, str(value))"
   ]
  },
  {
   "cell_type": "code",
   "execution_count": 129,
   "metadata": {},
   "outputs": [
    {
     "data": {
      "text/html": [
       "<div>\n",
       "<style scoped>\n",
       "    .dataframe tbody tr th:only-of-type {\n",
       "        vertical-align: middle;\n",
       "    }\n",
       "\n",
       "    .dataframe tbody tr th {\n",
       "        vertical-align: top;\n",
       "    }\n",
       "\n",
       "    .dataframe thead tr th {\n",
       "        text-align: left;\n",
       "    }\n",
       "</style>\n",
       "<table border=\"1\" class=\"dataframe\">\n",
       "  <thead>\n",
       "    <tr>\n",
       "      <th></th>\n",
       "      <th>Item1</th>\n",
       "      <th>Item2</th>\n",
       "      <th>Item3</th>\n",
       "      <th>Item4</th>\n",
       "      <th>Item5</th>\n",
       "      <th>Item6</th>\n",
       "      <th>Item7</th>\n",
       "      <th>Item8</th>\n",
       "    </tr>\n",
       "  </thead>\n",
       "  <tbody>\n",
       "    <tr>\n",
       "      <th>PC0</th>\n",
       "      <td>0.459030</td>\n",
       "      <td>0.434342</td>\n",
       "      <td>0.400775</td>\n",
       "      <td>0.145686</td>\n",
       "      <td>-0.175385</td>\n",
       "      <td>0.405197</td>\n",
       "      <td>0.358413</td>\n",
       "      <td>0.308851</td>\n",
       "    </tr>\n",
       "    <tr>\n",
       "      <th>PC1</th>\n",
       "      <td>0.282717</td>\n",
       "      <td>0.285321</td>\n",
       "      <td>0.282950</td>\n",
       "      <td>-0.569898</td>\n",
       "      <td>0.591292</td>\n",
       "      <td>-0.183897</td>\n",
       "      <td>-0.181067</td>\n",
       "      <td>-0.132624</td>\n",
       "    </tr>\n",
       "    <tr>\n",
       "      <th>PC2</th>\n",
       "      <td>-0.069221</td>\n",
       "      <td>-0.106259</td>\n",
       "      <td>-0.173885</td>\n",
       "      <td>-0.171525</td>\n",
       "      <td>0.135315</td>\n",
       "      <td>-0.061988</td>\n",
       "      <td>-0.184917</td>\n",
       "      <td>0.931619</td>\n",
       "    </tr>\n",
       "  </tbody>\n",
       "</table>\n",
       "</div>"
      ],
      "text/plain": [
       "        Item1     Item2     Item3     Item4     Item5     Item6     Item7  \\\n",
       "PC0  0.459030  0.434342  0.400775  0.145686 -0.175385  0.405197  0.358413   \n",
       "PC1  0.282717  0.285321  0.282950 -0.569898  0.591292 -0.183897 -0.181067   \n",
       "PC2 -0.069221 -0.106259 -0.173885 -0.171525  0.135315 -0.061988 -0.184917   \n",
       "\n",
       "        Item8  \n",
       "PC0  0.308851  \n",
       "PC1 -0.132624  \n",
       "PC2  0.931619  "
      ]
     },
     "execution_count": 129,
     "metadata": {},
     "output_type": "execute_result"
    }
   ],
   "source": [
    "# assign row names to corresponding Items, col names to principal components\n",
    "col_names = [item_df.columns]\n",
    "row_names = ['PC0', 'PC1', 'PC2']\n",
    "\n",
    "# create data frame of component alignment strengths\n",
    "pc_df2 = pd.DataFrame(data = pipe2.steps[1][1].components_, columns = col_names, index = row_names)\n",
    "pc_df2.head()"
   ]
  },
  {
   "cell_type": "markdown",
   "metadata": {},
   "source": [
    "# Summary of Analysis"
   ]
  },
  {
   "cell_type": "markdown",
   "metadata": {},
   "source": [
    "The first 3 principal components account for 67% of variance.  The 3 component matrix above indicates which Items align with which components by maximum magnitude of variance.  \n",
    "\n",
    "PC0: Item1, Item2, Item3, Item6, Item7\n",
    "\n",
    "PC1: Item4, Item5\n",
    "\n",
    "PC2: Item8"
   ]
  },
  {
   "cell_type": "markdown",
   "metadata": {},
   "source": [
    "The results of PCA reveal that Items can be grouped together according to the above alignment.  Instead of using all 8 variables in predictive models only 3 may be necessary.  Combining columns by cumputing their means is one possible way of doing so.  In other words, Timely Response and Evidence of active listening will likely produce the same range of predictions.  The same can be said for the other 2 groupings of Items.\n",
    "\n",
    "The elbow plot method of reducing dimensions only resulted in accounting for about 2/3 of the total variability.  According to the initial component matrix the Items did not align with 3 components according to their maximimum variablity, so it may be more desirable to specify stricter total variance.  This can be set as a parameter in the PCA model; 0.85 means 85% of total variability.  The default is 0.9.  (Datacamp)."
   ]
  },
  {
   "cell_type": "code",
   "execution_count": 152,
   "metadata": {},
   "outputs": [],
   "source": [
    "# Pipeline a scaler and pca \n",
    "\n",
    "from sklearn.pipeline import Pipeline\n",
    "from sklearn.decomposition import PCA\n",
    "import matplotlib.pyplot as plt \n",
    "\n",
    "pipe3 = Pipeline([('scaler', StandardScaler()),\n",
    "                 ('reducer', PCA(0.85))])\n",
    "\n",
    "# Fit the pipe to the data\n",
    "pca_item3 = pipe3.fit(item_df)"
   ]
  },
  {
   "cell_type": "code",
   "execution_count": 153,
   "metadata": {},
   "outputs": [
    {
     "data": {
      "image/png": "[encoded data removed]",
      "text/plain": [
       "<Figure size 432x288 with 1 Axes>"
      ]
     },
     "metadata": {
      "needs_background": "light"
     },
     "output_type": "display_data"
    }
   ],
   "source": [
    "# Plot the explained variance ratio\n",
    "plt.plot(pipe3.steps[1][1].explained_variance_ratio_)\n",
    "\n",
    "plt.xlabel('Principal component index')\n",
    "plt.ylabel('Explained variance ratio')\n",
    "plt.show()"
   ]
  },
  {
   "cell_type": "code",
   "execution_count": 154,
   "metadata": {},
   "outputs": [
    {
     "data": {
      "image/png": "[encoded data removed]",
      "text/plain": [
       "<Figure size 432x288 with 1 Axes>"
      ]
     },
     "metadata": {
      "needs_background": "light"
     },
     "output_type": "display_data"
    }
   ],
   "source": [
    "cum_sum_exp = np.cumsum(pipe3.steps[1][1].explained_variance_ratio_)\n",
    "plt.step(range(0,len(cum_sum_exp)), cum_sum_exp, where='mid',label='Cumulative explained variance')\n",
    "\n",
    "for index, value in enumerate(cum_sum_exp):\n",
    "    plt.text(index, value, str(value))"
   ]
  },
  {
   "cell_type": "markdown",
   "metadata": {},
   "source": [
    "The elbow plot with the new PCA model stops at 6 components, but still indicates 3 for ideal dimension reduction.  A cumulative plot of variace ratios indicate there should be 6 components in order to satisfy the total variance threshold.  The strength of alignment according to the original component matrix suggests 7 dimensions.  It appears as if one more component would be needed to increase the cumulative variance ratio above 90%. "
   ]
  },
  {
   "cell_type": "code",
   "execution_count": 157,
   "metadata": {},
   "outputs": [
    {
     "data": {
      "text/html": [
       "<div>\n",
       "<style scoped>\n",
       "    .dataframe tbody tr th:only-of-type {\n",
       "        vertical-align: middle;\n",
       "    }\n",
       "\n",
       "    .dataframe tbody tr th {\n",
       "        vertical-align: top;\n",
       "    }\n",
       "\n",
       "    .dataframe thead tr th {\n",
       "        text-align: left;\n",
       "    }\n",
       "</style>\n",
       "<table border=\"1\" class=\"dataframe\">\n",
       "  <thead>\n",
       "    <tr>\n",
       "      <th></th>\n",
       "      <th>Item1</th>\n",
       "      <th>Item2</th>\n",
       "      <th>Item3</th>\n",
       "      <th>Item4</th>\n",
       "      <th>Item5</th>\n",
       "      <th>Item6</th>\n",
       "      <th>Item7</th>\n",
       "      <th>Item8</th>\n",
       "    </tr>\n",
       "  </thead>\n",
       "  <tbody>\n",
       "    <tr>\n",
       "      <th>PC0</th>\n",
       "      <td>0.459030</td>\n",
       "      <td>0.434342</td>\n",
       "      <td>0.400775</td>\n",
       "      <td>0.145686</td>\n",
       "      <td>-0.175385</td>\n",
       "      <td>0.405197</td>\n",
       "      <td>0.358413</td>\n",
       "      <td>0.308851</td>\n",
       "    </tr>\n",
       "    <tr>\n",
       "      <th>PC1</th>\n",
       "      <td>0.282717</td>\n",
       "      <td>0.285321</td>\n",
       "      <td>0.282950</td>\n",
       "      <td>-0.569898</td>\n",
       "      <td>0.591292</td>\n",
       "      <td>-0.183897</td>\n",
       "      <td>-0.181067</td>\n",
       "      <td>-0.132624</td>\n",
       "    </tr>\n",
       "    <tr>\n",
       "      <th>PC2</th>\n",
       "      <td>-0.069221</td>\n",
       "      <td>-0.106259</td>\n",
       "      <td>-0.173885</td>\n",
       "      <td>-0.171525</td>\n",
       "      <td>0.135315</td>\n",
       "      <td>-0.061988</td>\n",
       "      <td>-0.184917</td>\n",
       "      <td>0.931619</td>\n",
       "    </tr>\n",
       "    <tr>\n",
       "      <th>PC3</th>\n",
       "      <td>0.120013</td>\n",
       "      <td>0.170235</td>\n",
       "      <td>0.254689</td>\n",
       "      <td>0.482754</td>\n",
       "      <td>-0.060906</td>\n",
       "      <td>-0.063712</td>\n",
       "      <td>-0.806749</td>\n",
       "      <td>0.009229</td>\n",
       "    </tr>\n",
       "    <tr>\n",
       "      <th>PC4</th>\n",
       "      <td>-0.044752</td>\n",
       "      <td>-0.064900</td>\n",
       "      <td>-0.148134</td>\n",
       "      <td>-0.444692</td>\n",
       "      <td>-0.211030</td>\n",
       "      <td>0.757170</td>\n",
       "      <td>-0.378391</td>\n",
       "      <td>-0.114326</td>\n",
       "    </tr>\n",
       "    <tr>\n",
       "      <th>PC5</th>\n",
       "      <td>0.025032</td>\n",
       "      <td>0.074672</td>\n",
       "      <td>-0.396761</td>\n",
       "      <td>0.431115</td>\n",
       "      <td>0.693537</td>\n",
       "      <td>0.403694</td>\n",
       "      <td>0.067449</td>\n",
       "      <td>-0.044789</td>\n",
       "    </tr>\n",
       "  </tbody>\n",
       "</table>\n",
       "</div>"
      ],
      "text/plain": [
       "        Item1     Item2     Item3     Item4     Item5     Item6     Item7  \\\n",
       "PC0  0.459030  0.434342  0.400775  0.145686 -0.175385  0.405197  0.358413   \n",
       "PC1  0.282717  0.285321  0.282950 -0.569898  0.591292 -0.183897 -0.181067   \n",
       "PC2 -0.069221 -0.106259 -0.173885 -0.171525  0.135315 -0.061988 -0.184917   \n",
       "PC3  0.120013  0.170235  0.254689  0.482754 -0.060906 -0.063712 -0.806749   \n",
       "PC4 -0.044752 -0.064900 -0.148134 -0.444692 -0.211030  0.757170 -0.378391   \n",
       "PC5  0.025032  0.074672 -0.396761  0.431115  0.693537  0.403694  0.067449   \n",
       "\n",
       "        Item8  \n",
       "PC0  0.308851  \n",
       "PC1 -0.132624  \n",
       "PC2  0.931619  \n",
       "PC3  0.009229  \n",
       "PC4 -0.114326  \n",
       "PC5 -0.044789  "
      ]
     },
     "execution_count": 157,
     "metadata": {},
     "output_type": "execute_result"
    }
   ],
   "source": [
    "col_names = [item_df.columns]\n",
    "row_names = ['PC0', 'PC1', 'PC2', 'PC3', 'PC4', 'PC5']\n",
    "\n",
    "# create data frame of component alignment strengths\n",
    "pc_df3 = pd.DataFrame(data = pipe3.steps[1][1].components_, columns = col_names, index = row_names)\n",
    "pc_df3.head(10)"
   ]
  },
  {
   "cell_type": "markdown",
   "metadata": {},
   "source": [
    "The component alignment here becomes:\n",
    "\n",
    "PC0: Item1, Item2, Item3\n",
    "\n",
    "PC1: Item4\n",
    "\n",
    "PC2: Item8\n",
    "\n",
    "PC3: Item7\n",
    "\n",
    "PC4: Item6\n",
    "\n",
    "PC5: Item5   "
   ]
  },
  {
   "cell_type": "markdown",
   "metadata": {},
   "source": [
    "Each threshold of variance ratio tolerance resulted in different dimensional reductions and groupings.  It would seem reasonable that a predictive model would perform better using the 6 or 7-component grouping.  Reducing to 3 dimensions resulted in the loss of 33% of the data.  (Aditya, 2020).  The loosely re-grouped predictor variables may be underfit in a predictive model.  Nevertheless, it would be interesting to try several ways to find out how severe the effect would be.  The results of PCA with an 85% threshold indicated a grouping of timeliness of responses, repairs and fixes according to how Items 1-3 are aligned.  This doesn't seem too surprising, but if any re-difinition of survey items were to be made, the dimensional reduction that results in the most accurate predictions should be used.  "
   ]
  },
  {
   "cell_type": "markdown",
   "metadata": {},
   "source": [
    "<><><><><><><><><><><><><><><><><><><><><><><><><><><><><><><><><><><><><>"
   ]
  },
  {
   "cell_type": "markdown",
   "metadata": {},
   "source": [
    "Scaling the Items data set and saving to an Excel file."
   ]
  },
  {
   "cell_type": "code",
   "execution_count": 140,
   "metadata": {},
   "outputs": [
    {
     "name": "stdout",
     "output_type": "stream",
     "text": [
      "Scaled Dataset Using StandardScaler\n"
     ]
    },
    {
     "data": {
      "text/html": [
       "<div>\n",
       "<style scoped>\n",
       "    .dataframe tbody tr th:only-of-type {\n",
       "        vertical-align: middle;\n",
       "    }\n",
       "\n",
       "    .dataframe tbody tr th {\n",
       "        vertical-align: top;\n",
       "    }\n",
       "\n",
       "    .dataframe thead th {\n",
       "        text-align: right;\n",
       "    }\n",
       "</style>\n",
       "<table border=\"1\" class=\"dataframe\">\n",
       "  <thead>\n",
       "    <tr style=\"text-align: right;\">\n",
       "      <th></th>\n",
       "      <th>Item1</th>\n",
       "      <th>Item2</th>\n",
       "      <th>Item3</th>\n",
       "      <th>Item4</th>\n",
       "      <th>Item5</th>\n",
       "      <th>Item6</th>\n",
       "      <th>Item7</th>\n",
       "      <th>Item8</th>\n",
       "    </tr>\n",
       "  </thead>\n",
       "  <tbody>\n",
       "    <tr>\n",
       "      <th>0</th>\n",
       "      <td>1.454307</td>\n",
       "      <td>1.444922</td>\n",
       "      <td>1.471896</td>\n",
       "      <td>-0.485004</td>\n",
       "      <td>0.494844</td>\n",
       "      <td>0.486389</td>\n",
       "      <td>-0.495406</td>\n",
       "      <td>0.490384</td>\n",
       "    </tr>\n",
       "    <tr>\n",
       "      <th>1</th>\n",
       "      <td>-0.472948</td>\n",
       "      <td>0.478354</td>\n",
       "      <td>-0.473770</td>\n",
       "      <td>-0.485004</td>\n",
       "      <td>0.494844</td>\n",
       "      <td>-0.481165</td>\n",
       "      <td>0.476931</td>\n",
       "      <td>0.490384</td>\n",
       "    </tr>\n",
       "    <tr>\n",
       "      <th>2</th>\n",
       "      <td>0.490679</td>\n",
       "      <td>0.478354</td>\n",
       "      <td>-1.446603</td>\n",
       "      <td>0.489878</td>\n",
       "      <td>0.494844</td>\n",
       "      <td>-0.481165</td>\n",
       "      <td>-0.495406</td>\n",
       "      <td>-0.481828</td>\n",
       "    </tr>\n",
       "    <tr>\n",
       "      <th>3</th>\n",
       "      <td>0.490679</td>\n",
       "      <td>0.478354</td>\n",
       "      <td>0.499063</td>\n",
       "      <td>-1.459886</td>\n",
       "      <td>1.470674</td>\n",
       "      <td>0.486389</td>\n",
       "      <td>-0.495406</td>\n",
       "      <td>-0.481828</td>\n",
       "    </tr>\n",
       "    <tr>\n",
       "      <th>4</th>\n",
       "      <td>0.490679</td>\n",
       "      <td>0.478354</td>\n",
       "      <td>0.499063</td>\n",
       "      <td>-0.485004</td>\n",
       "      <td>0.494844</td>\n",
       "      <td>0.486389</td>\n",
       "      <td>0.476931</td>\n",
       "      <td>1.462596</td>\n",
       "    </tr>\n",
       "  </tbody>\n",
       "</table>\n",
       "</div>"
      ],
      "text/plain": [
       "      Item1     Item2     Item3     Item4     Item5     Item6     Item7  \\\n",
       "0  1.454307  1.444922  1.471896 -0.485004  0.494844  0.486389 -0.495406   \n",
       "1 -0.472948  0.478354 -0.473770 -0.485004  0.494844 -0.481165  0.476931   \n",
       "2  0.490679  0.478354 -1.446603  0.489878  0.494844 -0.481165 -0.495406   \n",
       "3  0.490679  0.478354  0.499063 -1.459886  1.470674  0.486389 -0.495406   \n",
       "4  0.490679  0.478354  0.499063 -0.485004  0.494844  0.486389  0.476931   \n",
       "\n",
       "      Item8  \n",
       "0  0.490384  \n",
       "1  0.490384  \n",
       "2 -0.481828  \n",
       "3 -0.481828  \n",
       "4  1.462596  "
      ]
     },
     "execution_count": 140,
     "metadata": {},
     "output_type": "execute_result"
    }
   ],
   "source": [
    "item_scaled = scaler.fit_transform(item_df.to_numpy())\n",
    "item_scaled = pd.DataFrame(item_scaled, columns=['Item1', 'Item2', 'Item3', 'Item4', 'Item5', 'Item6', 'Item7', 'Item8'])\n",
    " \n",
    "print(\"Scaled Dataset Using StandardScaler\")\n",
    "item_scaled.head()"
   ]
  },
  {
   "cell_type": "code",
   "execution_count": 142,
   "metadata": {},
   "outputs": [],
   "source": [
    "# write scaled df of features to Excel files\n",
    "item_scaled.to_excel('C:/Users/maxgs/MSDA/D212/Task2/item_scaled.xlsx')"
   ]
  },
  {
   "cell_type": "markdown",
   "metadata": {},
   "source": [
    "# Sources"
   ]
  },
  {
   "cell_type": "markdown",
   "metadata": {},
   "source": [
    "Howard Anton (2000).  Elementary Linear Algebra (8th ed.).  John Wiley & Sons, Inc. \n",
    "\n",
    "Datacamp.  (n.d.)  Dimensionality Reduction in Python.\n",
    "\n",
    "Sharma, Aditya.  (2020, January 1).  Principal component Analysis (PCA) in Python.  Datacamp Tutorials.  https://www.datacamp.com/community/tutorials/principal-component-analysis-in-python"
   ]
  }
 ],
 "metadata": {
  "kernelspec": {
   "display_name": "Python 3",
   "language": "python",
   "name": "python3"
  },
  "language_info": {
   "codemirror_mode": {
    "name": "ipython",
    "version": 3
   },
   "file_extension": ".py",
   "mimetype": "text/x-python",
   "name": "python",
   "nbconvert_exporter": "python",
   "pygments_lexer": "ipython3",
   "version": "3.6.8"
  }
 },
 "nbformat": 4,
 "nbformat_minor": 2
}
